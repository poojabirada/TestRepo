{
 "cells": [
  {
   "cell_type": "markdown",
   "id": "054410ab-5854-4ca3-a74a-d7bf451f2366",
   "metadata": {},
   "source": [
    "Exer 2\n",
    "# Data Science Tools and Ecosystem\n"
   ]
  },
  {
   "cell_type": "markdown",
   "id": "4abccaa0-d52d-4a50-8390-1141f4a445f1",
   "metadata": {},
   "source": [
    "Exer 3\n",
    "## Introduction\n",
    "In this notebook, we will explore various tools, languages, and libraries used in the field of data science.\n"
   ]
  },
  {
   "cell_type": "markdown",
   "id": "98d4838f-cca8-47e5-8048-6df02636276b",
   "metadata": {},
   "source": [
    "Exer 4\n",
    "## Languages Used in Data Science\n",
    "Some common languages used in data science include:\n",
    "- Python\n",
    "- R\n",
    "- SQL\n",
    "- Scala\n",
    "- Julia\n"
   ]
  },
  {
   "cell_type": "markdown",
   "id": "e28ed67b-09d0-4039-991b-293731c1c085",
   "metadata": {
    "jp-MarkdownHeadingCollapsed": true
   },
   "source": [
    "Exer 5\n",
    "## Data Science Libraries\n",
    "Some of the libraries commonly used in data science are:\n",
    "- Pandas\n",
    "- NumPy\n",
    "- Matplotlib\n",
    "- Scikit-learn\n",
    "- TensorFlow\n"
   ]
  },
  {
   "cell_type": "markdown",
   "id": "62c4cc28-eb9a-40b3-8892-42e9bed33a24",
   "metadata": {
    "jp-MarkdownHeadingCollapsed": true
   },
   "source": [
    "Exer 6\n",
    "## Data Science Tools\n",
    "\n",
    "| Tool          | Purpose               |\n",
    "|---------------|------------------------|\n",
    "| Jupyter       | Notebook interface     |\n",
    "| RStudio       | IDE for R              |\n",
    "| Apache Spark  | Big data processing    |\n",
    "| TensorFlow    | Machine Learning       |\n",
    "| VS Code       | General-purpose IDE    |\n"
   ]
  },
  {
   "cell_type": "markdown",
   "id": "430f49dc-cd8e-4353-b0da-8b1b505d029b",
   "metadata": {},
   "source": [
    "Exer 7\n",
    "## Examples of Arithmetic Expressions\n",
    "In this section, we will explore examples of basic arithmetic operations such as addition, subtraction, multiplication, and division using Python code.\n"
   ]
  },
  {
   "cell_type": "code",
   "execution_count": 2,
   "id": "23cca77d-3435-4e69-bf90-4de8f018e03a",
   "metadata": {},
   "outputs": [
    {
     "data": {
      "text/plain": [
       "17"
      ]
     },
     "execution_count": 2,
     "metadata": {},
     "output_type": "execute_result"
    }
   ],
   "source": [
    "Exer 8\n",
    "# Example of an arithmetic expression: (3*4)+5\n",
    "(3*4)+5\n"
   ]
  },
  {
   "cell_type": "code",
   "execution_count": 3,
   "id": "067499f8-75e8-4eb6-8284-6838dfaa76ac",
   "metadata": {},
   "outputs": [
    {
     "data": {
      "text/plain": [
       "3.3333333333333335"
      ]
     },
     "execution_count": 3,
     "metadata": {},
     "output_type": "execute_result"
    }
   ],
   "source": [
    "Exer 9\n",
    "# Convert 200 minutes to hours\n",
    "200 / 60\n"
   ]
  },
  {
   "cell_type": "markdown",
   "id": "4350274a-f6ce-40e2-9e0e-4a0ebe7b7049",
   "metadata": {},
   "source": [
    "Exer 10\n",
    "## Objectives\n",
    "- Understand data science languages\n",
    "- Identify common data science libraries\n",
    "- Use markdown in Jupyter notebooks\n",
    "- Perform basic arithmetic in Python\n",
    "- Convert minutes to hours using code\n"
   ]
  },
  {
   "cell_type": "markdown",
   "id": "e2bd4279-8c6d-473e-bdfb-cac622f30228",
   "metadata": {},
   "source": [
    "Exer 11\n",
    "## Author\n",
    "Pooja Biradar\n"
   ]
  },
  {
   "cell_type": "markdown",
   "id": "b0437e90-1b44-4664-977e-e9c7f08250c6",
   "metadata": {},
   "source": [
    "Exer 13\n",
    "Title-\n",
    "# Data Science Tools and Ecosystem\n",
    "Introduction-\n",
    "## Introduction\n",
    "In this notebook, we will explore tools, languages, and libraries used in data science.  \n",
    "We will also demonstrate basic arithmetic operations and unit conversions using Python code.\n",
    "First few cells-\n",
    "## Languages Used in Data Science\n",
    "Some of the popular languages that data scientists use are:\n",
    "\n",
    "- Python\n",
    "- R\n",
    "- SQL\n",
    "- Julia\n",
    "## Common Data Science Libraries\n",
    "Some of the commonly used libraries in data science include:\n",
    "\n",
    "- Pandas  \n",
    "- NumPy  \n",
    "- Matplotlib  \n",
    "- Scikit-learn  \n",
    "- TensorFlow\n",
    "## Data Science Tools\n",
    "\n",
    "| Tool         | Description              |\n",
    "|--------------|--------------------------|\n",
    "| Jupyter      | Notebook interface       |\n",
    "| RStudio      | IDE for R                |\n",
    "| Apache Spark | Big data processing tool |\n",
    "| TensorFlow   | Deep learning framework  |\n",
    "\n"
   ]
  }
 ],
 "metadata": {
  "kernelspec": {
   "display_name": "Python 3 (ipykernel)",
   "language": "python",
   "name": "python3"
  },
  "language_info": {
   "codemirror_mode": {
    "name": "ipython",
    "version": 3
   },
   "file_extension": ".py",
   "mimetype": "text/x-python",
   "name": "python",
   "nbconvert_exporter": "python",
   "pygments_lexer": "ipython3",
   "version": "3.12.8"
  }
 },
 "nbformat": 4,
 "nbformat_minor": 5
}
