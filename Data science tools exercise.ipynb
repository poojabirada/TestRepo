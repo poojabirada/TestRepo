{
 "cells": [
  {
   "cell_type": "markdown",
   "id": "57abbf48-a5c9-4062-8f99-3d44bf557918",
   "metadata": {},
   "source": [
    "exer 2\n",
    "# Data Science Tools and Ecosystem\n"
   ]
  },
  {
   "cell_type": "code",
   "execution_count": null,
   "id": "22e8f826-27b9-4eca-b88b-942ac2c89737",
   "metadata": {},
   "outputs": [],
   "source": [
    "exer 3\n",
    "In this notebook, we explore the various tools, languages, and libraries used in Data Science.\n"
   ]
  },
  {
   "cell_type": "markdown",
   "id": "070d3a7a-91e1-4bfc-88e3-753859f04ae6",
   "metadata": {},
   "source": [
    "exer 4\n",
    "Some of the popular languages that Data Scientists use are:\n",
    "1. Python\n",
    "2. R\n",
    "3. SQL\n",
    "4. Julia\n",
    "5. Scala\n"
   ]
  },
  {
   "cell_type": "markdown",
   "id": "d006ab3b-b08c-4d8e-9676-f0f76122219c",
   "metadata": {},
   "source": [
    "exer 5\n",
    "Some of the commonly used libraries used by Data Scientists include:\n",
    "1. Pandas\n",
    "2. NumPy\n",
    "3. Matplotlib\n",
    "4. Scikit-learn\n",
    "5. TensorFlow\n"
   ]
  },
  {
   "cell_type": "markdown",
   "id": "306578c1-773b-4490-9c87-2e56ab20a0f4",
   "metadata": {},
   "source": [
    "exer 6\n",
    "| Tool           | Category          |\n",
    "|----------------|-------------------|\n",
    "| Jupyter        | Notebook Tool     |\n",
    "| RStudio        | IDE               |\n",
    "| Apache Spark   | Big Data Tool     |\n",
    "| TensorFlow     | Deep Learning     |\n",
    "| Tableau        | Visualization     |\n"
   ]
  },
  {
   "cell_type": "code",
   "execution_count": null,
   "id": "4b1b1562-f34f-457b-8f5b-751ae1130976",
   "metadata": {},
   "outputs": [],
   "source": [
    "exer 7\n",
    "## Examples of Evaluating Arithmetic Expressions\n",
    "\n",
    "In this section, we will explore how to perform basic arithmetic operations such as addition, subtraction, multiplication, and division using Python code.\n"
   ]
  },
  {
   "cell_type": "code",
   "execution_count": null,
   "id": "772e1bad-eed6-4e7a-b95b-eadd947e912b",
   "metadata": {},
   "outputs": [],
   "source": [
    "exer 8\n",
    "# Multiply 3 and 4, then add 5\n",
    "(3 * 4) + 5\n"
   ]
  },
  {
   "cell_type": "code",
   "execution_count": null,
   "id": "ac92c453-4730-4e84-b1bd-48e394b26964",
   "metadata": {},
   "outputs": [],
   "source": [
    "exer 9\n",
    "# Convert 200 minutes to hours\n",
    "minutes = 200\n",
    "hours = minutes / 60\n",
    "hours\n"
   ]
  },
  {
   "cell_type": "code",
   "execution_count": null,
   "id": "4d638965-fd06-4c2d-917e-ce9c3f17f3e3",
   "metadata": {},
   "outputs": [],
   "source": [
    "exer 10\n",
    "## Objectives\n",
    "\n",
    "Some of the objectives of this notebook include:\n",
    "- Listing popular languages for Data Science\n",
    "- Listing commonly used libraries in Data Science\n",
    "- Creating tables using Markdown\n",
    "- Performing arithmetic operations in code\n"
   ]
  },
  {
   "cell_type": "code",
   "execution_count": null,
   "id": "56b1b7a5-46af-43c2-989d-3f11676c4ff0",
   "metadata": {},
   "outputs": [],
   "source": [
    "exer 11\n",
    "## Author\n",
    "\n",
    "**Name:** Pooja Biradar\n"
   ]
  },
  {
   "cell_type": "code",
   "execution_count": null,
   "id": "35e4d4d4-8e77-410a-a82f-38d1feec8fed",
   "metadata": {},
   "outputs": [],
   "source": [
    "1.Title : # Data Science Tools and Ecosystem\n",
    "2.**Author:** Pooja Biradar\n",
    "3.Introduction: In this notebook, we explore the various tools, languages, and libraries used in Data Science.\n",
    "4.Table of contents\n",
    "## Table of Contents\n",
    "1. Introduction\n",
    "2. Data Science Languages\n",
    "3. Data Science Libraries\n",
    "4. Data Science Tools\n",
    "5. Arithmetic Examples\n",
    "6. Code Examples\n",
    "7. Objectives\n",
    "8. Author\n",
    "\n",
    "\n"
   ]
  }
 ],
 "metadata": {
  "kernelspec": {
   "display_name": "Python 3 (ipykernel)",
   "language": "python",
   "name": "python3"
  },
  "language_info": {
   "codemirror_mode": {
    "name": "ipython",
    "version": 3
   },
   "file_extension": ".py",
   "mimetype": "text/x-python",
   "name": "python",
   "nbconvert_exporter": "python",
   "pygments_lexer": "ipython3",
   "version": "3.12.8"
  }
 },
 "nbformat": 4,
 "nbformat_minor": 5
}
